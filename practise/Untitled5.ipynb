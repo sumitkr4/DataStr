{
 "cells": [
  {
   "cell_type": "code",
   "execution_count": null,
   "metadata": {},
   "outputs": [],
   "source": [
    "s_1 = 471\n",
    "s_2=480\n",
    "\n",
    "while s_1 != s_2:\n",
    "    n1 = s_1\n",
    "    n2 = s_2\n",
    "    while(n1>0):\n",
    "        rem=n1%10\n",
    "        s_1=s_1+rem\n",
    "        n1=n1//10\n",
    "    while(n2>0):\n",
    "        rem=n2%10\n",
    "        s_2=s_2+rem\n",
    "        n1=n1//10\n",
    "n=s_1\n",
    "while n>0:\n",
    "    rem=n1%10\n",
    "    s_1=s_1+rem\n",
    "    n1=n1//10\n",
    "    \n",
    "print(s_1)\n",
    "    \n",
    "    "
   ]
  },
  {
   "cell_type": "code",
   "execution_count": null,
   "metadata": {},
   "outputs": [],
   "source": [
    "print(\"f\")"
   ]
  },
  {
   "cell_type": "code",
   "execution_count": null,
   "metadata": {},
   "outputs": [],
   "source": []
  }
 ],
 "metadata": {
  "kernelspec": {
   "display_name": "Python 3",
   "language": "python",
   "name": "python3"
  },
  "language_info": {
   "codemirror_mode": {
    "name": "ipython",
    "version": 3
   },
   "file_extension": ".py",
   "mimetype": "text/x-python",
   "name": "python",
   "nbconvert_exporter": "python",
   "pygments_lexer": "ipython3",
   "version": "3.7.5"
  }
 },
 "nbformat": 4,
 "nbformat_minor": 2
}
