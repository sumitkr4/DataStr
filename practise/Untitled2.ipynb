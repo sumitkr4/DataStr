{
 "cells": [
  {
   "cell_type": "code",
   "execution_count": 2,
   "metadata": {},
   "outputs": [
    {
     "name": "stdout",
     "output_type": "stream",
     "text": [
      "[None, None, None, None, None, None, None, None, None, None, None, None, None, None, None, None, None, None, None, None, None, None, None, None, None, None, None, None, None, None, None, None, None, None, None, None, None, None, None, None, None, None, None, None, None, None, None, None, None, None, None, None, None, None, None, None, None, None, None, None, None, None, None, None, None, None, None, None, None, None, None, None, None, None, None, None, None, None, None, None, None, None, None, None, None, None, None, None, None, None, None, None, None, None, None, None, None, None, None, None, None]\n",
      "Fibonacci Number is  5702887\n"
     ]
    }
   ],
   "source": [
    "def fib(n, lookup): \n",
    "    # Base case \n",
    "    if n == 0 or n == 1 : \n",
    "        lookup[n] = n \n",
    "    # If the value is not calculated previously then calculate it \n",
    "    if lookup[n] is None: \n",
    "        lookup[n] = fib(n-1 , lookup)  + fib(n-2 , lookup)  \n",
    "    # return the value corresponding to that value of n \n",
    "    return lookup[n] \n",
    "# end of function \n",
    "# Driver program to test the above function \n",
    "def main(): \n",
    "    n = 34 \n",
    "    # Declaration of lookup table \n",
    "    # Handles till n = 100  \n",
    "    lookup = [None]*(101) \n",
    "    print(\"Fibonacci Number is \", fib(n, lookup)) \n",
    "  \n",
    "if __name__==\"__main__\": \n",
    "    main() \n",
    "  "
   ]
  },
  {
   "cell_type": "code",
   "execution_count": 16,
   "metadata": {},
   "outputs": [
    {
     "name": "stdout",
     "output_type": "stream",
     "text": [
      "Fibonacci number is  34\n"
     ]
    }
   ],
   "source": [
    "def fib(n): \n",
    "    # array declaration \n",
    "    f = [0]*(n+1) \n",
    "    # base case assignment \n",
    "    f[1] = 1\n",
    "    # calculating the fibonacci and storing the values \n",
    "    for i in range(2 , n+1): \n",
    "        f[i] = f[i-1] + f[i-2] \n",
    "    return f[n] \n",
    "# Driver program to test the above function \n",
    "def main(): \n",
    "    n = 9\n",
    "    print(\"Fibonacci number is \" , fib(n)) \n",
    "  \n",
    "if __name__==\"__main__\": \n",
    "    main() "
   ]
  },
  {
   "cell_type": "code",
   "execution_count": null,
   "metadata": {},
   "outputs": [],
   "source": []
  }
 ],
 "metadata": {
  "kernelspec": {
   "display_name": "Python 3",
   "language": "python",
   "name": "python3"
  },
  "language_info": {
   "codemirror_mode": {
    "name": "ipython",
    "version": 3
   },
   "file_extension": ".py",
   "mimetype": "text/x-python",
   "name": "python",
   "nbconvert_exporter": "python",
   "pygments_lexer": "ipython3",
   "version": "3.7.5"
  }
 },
 "nbformat": 4,
 "nbformat_minor": 2
}
