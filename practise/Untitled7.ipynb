{
 "cells": [
  {
   "cell_type": "code",
   "execution_count": 1,
   "metadata": {},
   "outputs": [
    {
     "name": "stdout",
     "output_type": "stream",
     "text": [
      "519\n"
     ]
    }
   ],
   "source": [
    "s_1 = 471\n",
    "s_2=480\n",
    "\n",
    "while s_1 != s_2:\n",
    "    n1 = s_1\n",
    "    n2 = s_2\n",
    "    while(n1>0):\n",
    "        rem=n1%10\n",
    "        s_1=s_1+rem\n",
    "        n1=n1//10\n",
    "    while(n2>0):\n",
    "        rem=n2%10\n",
    "        s_2=s_2+rem\n",
    "        n2=n2//10\n",
    "n=s_1\n",
    "while n>0:\n",
    "    rem=n1%10\n",
    "    s_1=s_1+rem\n",
    "    n=n//10\n",
    "    \n",
    "print(s_1)\n",
    "    "
   ]
  },
  {
   "cell_type": "code",
   "execution_count": 40,
   "metadata": {},
   "outputs": [
    {
     "name": "stdout",
     "output_type": "stream",
     "text": [
      "[',', ' ', ' ', '.', ' ', ' ']\n"
     ]
    }
   ],
   "source": [
    "import re\n",
    "txt = \"Aye, said Mr. Gibenson Stark\"\n",
    "# x=re.search(\"^The\",txt)\n",
    "# x = re.search(\".Mr\",txt)\n",
    "# print(re.findall(\"[a-e]\",txt))\n",
    "print(re.findall(\"[\\s.,]\",txt))\n",
    "\n",
    "\n"
   ]
  },
  {
   "cell_type": "code",
   "execution_count": 47,
   "metadata": {},
   "outputs": [
    {
     "name": "stdout",
     "output_type": "stream",
     "text": [
      "['a', 'b', 'a', 'b', 'b', 'a', 'a', 'b', 'b', 'b']\n"
     ]
    }
   ],
   "source": [
    "print(re.findall('ab*',\"ababbaabbb\"))\n"
   ]
  },
  {
   "cell_type": "code",
   "execution_count": 52,
   "metadata": {},
   "outputs": [
    {
     "name": "stdout",
     "output_type": "stream",
     "text": [
      "S~*ject has ~*er booked already\n"
     ]
    }
   ],
   "source": [
    "print(re.sub('ub', '~*' , 'Subject has Uber booked already',flags = re.IGNORECASE)) \n"
   ]
  },
  {
   "cell_type": "code",
   "execution_count": 55,
   "metadata": {},
   "outputs": [
    {
     "name": "stdout",
     "output_type": "stream",
     "text": [
      "Baked & Beans & Spam\n"
     ]
    }
   ],
   "source": [
    "print(re.sub(r'\\sAND\\s', ' & ', 'Baked and Beans And Spam', flags=re.IGNORECASE)) \n"
   ]
  },
  {
   "cell_type": "code",
   "execution_count": 58,
   "metadata": {},
   "outputs": [
    {
     "name": "stdout",
     "output_type": "stream",
     "text": [
      "Given Data: Jun 24\n",
      "Month: Jun\n",
      "Day: 24\n",
      "\n",
      "Not a valid date\n"
     ]
    }
   ],
   "source": [
    "import re \n",
    "  \n",
    "# a sample function that uses regular expressions \n",
    "# to find month and day of a date. \n",
    "def findMonthAndDate(string): \n",
    "      \n",
    "    regex = r\"([a-zA-Z]+) (\\d+)\"\n",
    "    match = re.match(regex, string) \n",
    "      \n",
    "    if match == None:  \n",
    "        print(\"Not a valid date\")\n",
    "        return\n",
    "  \n",
    "    print (\"Given Data: %s\" % (match.group()) )\n",
    "    print (\"Month: %s\" % (match.group(1)) )\n",
    "    print (\"Day: %s\" % (match.group(2)) )\n",
    "  \n",
    "      \n",
    "# Driver Code \n",
    "findMonthAndDate(\"Jun 24\") \n",
    "print(\"\") \n",
    "findMonthAndDate(\"I was born on June 24\")"
   ]
  },
  {
   "cell_type": "code",
   "execution_count": 64,
   "metadata": {},
   "outputs": [
    {
     "name": "stdout",
     "output_type": "stream",
     "text": [
      "<class 'int'>\n"
     ]
    }
   ],
   "source": [
    "def s(a,b):\n",
    "    s=a+b\n",
    "\n",
    "    return s\n",
    "c = s(2,3)\n",
    "print(type(c))\n"
   ]
  },
  {
   "cell_type": "code",
   "execution_count": 71,
   "metadata": {},
   "outputs": [
    {
     "name": "stdout",
     "output_type": "stream",
     "text": [
      "23\n"
     ]
    }
   ],
   "source": [
    "a=21\n",
    "def f():\n",
    "    global a\n",
    "    a=a+2\n",
    "    print(a)\n",
    "f()"
   ]
  },
  {
   "cell_type": "code",
   "execution_count": 73,
   "metadata": {},
   "outputs": [
    {
     "name": "stdout",
     "output_type": "stream",
     "text": [
      "3\n"
     ]
    }
   ],
   "source": [
    "mx=lambda a,b : a if a>b else b\n",
    "print(mx(2,3))"
   ]
  },
  {
   "cell_type": "code",
   "execution_count": 78,
   "metadata": {},
   "outputs": [
    {
     "name": "stdout",
     "output_type": "stream",
     "text": [
      "[2, 24, 12]\n"
     ]
    }
   ],
   "source": [
    "l=[3,2,1,5,24,12,13]\n",
    "l1= list(filter(lambda a:a%2==0,l))\n",
    "print(l1)"
   ]
  },
  {
   "cell_type": "code",
   "execution_count": 80,
   "metadata": {},
   "outputs": [
    {
     "name": "stdout",
     "output_type": "stream",
     "text": [
      "outer function\n",
      "calling inner function\n",
      "Inner function \n",
      "Inner function \n"
     ]
    }
   ],
   "source": [
    "def outer():\n",
    "    print(\"outer function\")\n",
    "    def inner():\n",
    "        print(\"Inner function \")\n",
    "    print(\"calling inner function\")\n",
    "    return inner\n",
    "f1=outer()\n",
    "f1()\n",
    "f1()"
   ]
  }
 ],
 "metadata": {
  "kernelspec": {
   "display_name": "Python 3",
   "language": "python",
   "name": "python3"
  },
  "language_info": {
   "codemirror_mode": {
    "name": "ipython",
    "version": 3
   },
   "file_extension": ".py",
   "mimetype": "text/x-python",
   "name": "python",
   "nbconvert_exporter": "python",
   "pygments_lexer": "ipython3",
   "version": "3.7.5"
  }
 },
 "nbformat": 4,
 "nbformat_minor": 2
}
