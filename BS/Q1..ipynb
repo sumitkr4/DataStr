{
 "cells": [
  {
   "cell_type": "code",
   "execution_count": 52,
   "metadata": {},
   "outputs": [],
   "source": [
    "######   Binary search ############\n",
    "def binarySearch(arr,low,high,find):\n",
    "    if(low>high):\n",
    "        return -1\n",
    "    mid = (low+high)//2\n",
    "#     mid=low + (high-low)//2\n",
    "    if arr[mid]==find:\n",
    "        return mid\n",
    "    elif arr[mid]>find:\n",
    "        high=mid-1\n",
    "        return binarySearch(arr,low,high,find)\n",
    "    else:\n",
    "        low=mid+1\n",
    "        return binarySearch(arr,low,high,find)\n",
    "\n",
    "# array=[10,20,30,40,50,60,70]    \n",
    "# print(binarySearch(array,0,len(array),30))"
   ]
  },
  {
   "cell_type": "code",
   "execution_count": 40,
   "metadata": {},
   "outputs": [
    {
     "name": "stdout",
     "output_type": "stream",
     "text": [
      "5\n"
     ]
    }
   ],
   "source": [
    "######  1.question Binary search ############\n",
    "# Given a Sorted array with repition find left most index of an element.\n",
    "\n",
    "\n",
    "def findLeftIndex(arr,low,high,find):\n",
    "    if(low>high):\n",
    "        return -1\n",
    "    mid = (low+high)//2\n",
    "    if arr[mid]==find and (mid==0 or arr[mid-1]!=find):\n",
    "        return mid\n",
    "    elif arr[mid]>=find:\n",
    "        high=mid-1\n",
    "        return findLeftIndex(arr,low,high,find)\n",
    "    else:\n",
    "        low=mid+1\n",
    "        return findLeftIndex(arr,low,high,find)\n",
    "    \n",
    "\n",
    "array=[10,30,30,30,30,40]    \n",
    "print(findLeftIndex(array,0,len(array),40))"
   ]
  },
  {
   "cell_type": "code",
   "execution_count": 51,
   "metadata": {},
   "outputs": [
    {
     "name": "stdout",
     "output_type": "stream",
     "text": [
      "5\n"
     ]
    }
   ],
   "source": [
    "######  2.question Binary search ############\n",
    "# Given a Sorted array with repition count occurence of an element.\n",
    "\n",
    "\n",
    "def findLeftIndex(arr,low,high,ele):\n",
    "    if(low>high):\n",
    "        return -1\n",
    "    mid = (low+high)//2\n",
    "    if arr[mid]==ele and (mid==0 or arr[mid-1]!=ele):\n",
    "        return mid\n",
    "    elif arr[mid]>=ele:\n",
    "        high=mid-1\n",
    "        return findLeftIndex(arr,low,high,ele)\n",
    "    else:\n",
    "        low=mid+1\n",
    "        return findLeftIndex(arr,low,high,ele)\n",
    "\n",
    "def findRightIndex(arr,low,high,ele,n):\n",
    "    if(low>high):\n",
    "        return -1\n",
    "    mid = (low+high)//2\n",
    "    if arr[mid]==ele and (mid==n-1 or arr[mid+1]!=ele):\n",
    "        return mid\n",
    "    elif arr[mid]>ele:\n",
    "        high=mid-1\n",
    "        return findrightIndex(arr,low,high,ele,n)\n",
    "    else:\n",
    "        low=mid+1\n",
    "        return findrightIndex(arr,low,high,ele,n)\n",
    "    \n",
    "def countOccurence(arr,low,high,ele,n):\n",
    "    leftMostIndex=findLeftIndex(array,0,len(array),ele)\n",
    "    rightMostIndex = findRightIndex(array,0,len(array),ele,len(arr))\n",
    "    return rightMostIndex - leftMostIndex +1\n",
    "    \n",
    "array=[20,30,30,30,40,40]\n",
    "array=[1,1,1,1,1]\n",
    "print(countOccurence(array,0,len(array),1,len(array)))"
   ]
  },
  {
   "cell_type": "code",
   "execution_count": 56,
   "metadata": {},
   "outputs": [
    {
     "name": "stdout",
     "output_type": "stream",
     "text": [
      "2\n"
     ]
    }
   ],
   "source": [
    "######  3.question Binary search ############\n",
    "# Given a infinite Sorted array and and element x,Find if x is present in the array.\n",
    "\n",
    "def findElement(arr,x):\n",
    "    if arr[0]==x:\n",
    "        return 0\n",
    "    i=1\n",
    "    while arr[i]<x:\n",
    "        i*=2\n",
    "    if arr[i]==x:\n",
    "        return i\n",
    "    else:\n",
    "        return binarySearch(arr,i//2,i,x)\n",
    "    \n",
    "array=[1,8,20,25,40,70,78,99,100,120,143,200,310]\n",
    "print(findElement(array,20))"
   ]
  },
  {
   "cell_type": "code",
   "execution_count": 65,
   "metadata": {},
   "outputs": [
    {
     "name": "stdout",
     "output_type": "stream",
     "text": [
      "Index of the element is :  2\n"
     ]
    }
   ],
   "source": [
    "###### 4. Question Binary Search###########\n",
    "# Find element in sorted and rotated array\n",
    "\n",
    "def pivotedBinarySearch(arr,n,key):\n",
    "    pivot = findPivot(arr, 0, n-1)\n",
    "    if pivot==-1:\n",
    "        return binarySearch(arr,0,n,key)\n",
    "    if pivot==key:\n",
    "        return pivot\n",
    "    if arr[0]<=key:\n",
    "        return binarySearch(arr,0,pivot-1,key)\n",
    "    return binarySearch(arr,pivot+1,n,key)\n",
    "\n",
    "def findPivot(arr,low,high):\n",
    "    if high<low:\n",
    "        return -1\n",
    "    if high==low:\n",
    "        return l\n",
    "    mid = int((low + high)/2)\n",
    "    if mid < high and arr[mid] > arr[mid + 1]: \n",
    "        return mid \n",
    "    if mid > low and arr[mid] < arr[mid - 1]: \n",
    "        return (mid-1) \n",
    "    if arr[low] >= arr[mid]: \n",
    "        return findPivot(arr, low, mid-1) \n",
    "    return findPivot(arr, mid + 1, high) \n",
    "  \n",
    "arr1 = [5, 6, 7, 8, 9, 10, 1, 2, 3] \n",
    "n = len(arr1) \n",
    "key = 7\n",
    "print(\"Index of the element is : \",  \n",
    "      pivotedBinarySearch(arr1, n, key)) \n",
    "        \n",
    "    "
   ]
  },
  {
   "cell_type": "code",
   "execution_count": 79,
   "metadata": {},
   "outputs": [
    {
     "name": "stdout",
     "output_type": "stream",
     "text": [
      "40\n"
     ]
    }
   ],
   "source": [
    "###### 4. Question Binary Search###########\n",
    "# Find peak element, That is not smaller then its neighbour.\n",
    "def findPeakUtil(arr,l,r,n):\n",
    "    mid=l+(r-l)//2\n",
    "    if ((mid == 0 or arr[mid - 1] <= arr[mid]) and \n",
    "       (mid == n - 1 or arr[mid + 1] <= arr[mid])): \n",
    "        return arr[mid]\n",
    "    elif (mid>0 and arr[mid-1]>arr[mid]):\n",
    "        return findPeakUtil(arr,mid+1,n-1,n)\n",
    "    else:\n",
    "        return findPeakUtil(arr,0,mid-1,n)\n",
    "\n",
    "def findPeak(arr,n):\n",
    "    return findPeakUtil(arr,0,n-1,n)\n",
    "array = [40,10,20,30];\n",
    "print(findPeak(array,len(array)));\n"
   ]
  },
  {
   "cell_type": "code",
   "execution_count": 94,
   "metadata": {},
   "outputs": [
    {
     "name": "stdout",
     "output_type": "stream",
     "text": [
      "13\n",
      "3\n"
     ]
    }
   ],
   "source": [
    "###### 5. Question Binary Search###########\n",
    "# Find square root, If input is not square return floor of squre root.\n",
    "\n",
    "def sqrt(num):\n",
    "    if num==0 or num==1:\n",
    "        return num\n",
    "    start=1\n",
    "    end=num\n",
    "    while(start<=end):\n",
    "        mid=(start+end)//2\n",
    "        if(mid*mid==num):\n",
    "            return mid\n",
    "        elif mid*mid<num:\n",
    "            start=mid+1\n",
    "            ans =mid\n",
    "        elif mid*mid>num:\n",
    "            end=mid-1\n",
    "    return ans\n",
    "print(sqrt(int(input())))"
   ]
  },
  {
   "cell_type": "code",
   "execution_count": 111,
   "metadata": {},
   "outputs": [
    {
     "data": {
      "text/plain": [
       "(1, 31)"
      ]
     },
     "execution_count": 111,
     "metadata": {},
     "output_type": "execute_result"
    }
   ],
   "source": [
    "###### 6. Question Binary Search###########\n",
    "# Given a sorted array and a sum find if there is a pair with given sum.\n",
    "\n",
    "####Using Two loops but then Time Comp =N^2\n",
    "\n",
    "####Hasing Method##### TC:N\n",
    "def findPair(arr,s):\n",
    "    s1=set()\n",
    "    for i in range(len(arr)):\n",
    "        temp=s-arr[i]\n",
    "        if temp in s1:\n",
    "            print(\"pair for given sum fom given array is:\",temp,arr[i])\n",
    "        s1.add(arr[i])\n",
    "        \n",
    "array =[2,1,3,11,7]\n",
    "s=18\n",
    "# findPair(array,s)\n",
    "    \n",
    "####Two Pointer Method##### TC:N (Only for sorted array)\n",
    "\n",
    "def findPair(arr,s,n):\n",
    "    srt=0\n",
    "    end=n-1\n",
    "    while srt<end:\n",
    "        if (arr[srt] + arr[end])==s:\n",
    "            return (arr[srt],arr[end])\n",
    "        elif (arr[srt]+ arr[end])<s:\n",
    "            srt+=1\n",
    "        else:\n",
    "            end-=1\n",
    "    return -1\n",
    "        \n",
    "        \n",
    "array =[1,2,3,10,19,21,31]\n",
    "s=32\n",
    "findPair(array,s,len(array))\n",
    "\n",
    "# NOTE:If we have to find  triplet then we will take one loop  inside that loop for every i value we find \n",
    "# pair through upper approach .\n",
    "\n"
   ]
  },
  {
   "cell_type": "code",
   "execution_count": null,
   "metadata": {},
   "outputs": [],
   "source": []
  },
  {
   "cell_type": "code",
   "execution_count": null,
   "metadata": {},
   "outputs": [],
   "source": []
  }
 ],
 "metadata": {
  "kernelspec": {
   "display_name": "Python 3",
   "language": "python",
   "name": "python3"
  }
 },
 "nbformat": 4,
 "nbformat_minor": 2
}
